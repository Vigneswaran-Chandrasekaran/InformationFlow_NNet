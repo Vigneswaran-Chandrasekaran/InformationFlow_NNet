{
 "cells": [
  {
   "cell_type": "code",
   "execution_count": 1,
   "metadata": {},
   "outputs": [],
   "source": [
    "import  torchvision\n",
    "import torch\n",
    "master_dataset = torchvision.datasets.SVHN(root = './data', train = True, transform = transforms.ToTensor(), download = True)\n",
    "test_dataset = torchvision.datasets.SVHN(root = './data', train = False, transform = transforms.ToTensor())\n",
    "#Train and validation data is split with specified ratio\n",
    "train_dataset, val_dataset = torch.utils.data.random_split(master_dataset, (int(len(master_dataset)*\n",
    "                                        (1.0-val_split)), int(len(master_dataset)*val_split)))\n",
    "#define dataloaders with defined batch size for training and validation\n",
    "train_loader = DataLoader(dataset = train_dataset, batch_size = tr_batch_size, shuffle = True)\n",
    "# validation data is shuffled as validation set is used in pretraining and so to avoid any particular class bias\n",
    "val_loader = DataLoader(dataset = val_dataset, batch_size = val_batch_size, shuffle = True)\n",
    "# shuffling test dataset is not required\n",
    "test_loader = DataLoader(dataset = test_dataset, batch_size = tr_batch_size, shuffle = False)\n",
    "toc = time.time()\n",
    "print(\"Finished preparing. Total time elasped: \"+str(toc - tic)+\" seconds\")\n",
    "return( train_loader, val_loader, test_loader)\n"
   ]
  }
 ],
 "metadata": {
  "kernelspec": {
   "display_name": "Python 3",
   "language": "python",
   "name": "python3"
  },
  "language_info": {
   "codemirror_mode": {
    "name": "ipython",
    "version": 3
   },
   "file_extension": ".py",
   "mimetype": "text/x-python",
   "name": "python",
   "nbconvert_exporter": "python",
   "pygments_lexer": "ipython3",
   "version": "3.7.3"
  }
 },
 "nbformat": 4,
 "nbformat_minor": 2
}
